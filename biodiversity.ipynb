{
 "cells": [
  {
   "cell_type": "markdown",
   "metadata": {},
   "source": [
    "# Inhoudsopgave\n",
    "\n",
    "- Inleiding\n",
    "- Onderzoeksvragen\n",
    "- Data analyse\n",
    "    - Importeren Python Modules\n",
    "    - Inladen van de Data\n",
    "        - Species Dataframe\n",
    "        - Observations Dataframe\n",
    "    - Algemeen data-onderzoek\n",
    "        - Species Dataframe\n",
    "        - Observations Dataframe\n",
    "    - Conclusie\n",
    "- Analyse onderzoeksvragen\n",
    "    - Is er een verschil in biodiversiteit tussen de parken en is dit verschil significant?\n",
    "        - Conclusie\n",
    "    - Wat is de status van de verschillende bedreigde soorten?\n",
    "        - Conclusie\n",
    "    - Worden sommige soorten eerder met uitsterven bedreigd dan andere en is dit verschil significant?\n",
    "        - Conclusie\n",
    "    - Welke soorten komen het vaaks voor in de parken?\n",
    "        - Conclusie\n",
    "- Eindconclusie\n",
    "- Evaluatie en vervolgonderzoek"
   ]
  },
  {
   "cell_type": "markdown",
   "metadata": {},
   "source": [
    "# Inleiding\n",
    "\n",
    "In de parken van 'National Parks Service' leven een aantal begreigde soorten. 'National Parks Service' wil er zeker van zijn dat het de goede kant op gaat met deze bedreigde soorten. Om dit te kunnen monitoren heeft het park inzicht nodig in de huidige staat van de verschillende soorten.\n",
    "Het doel van dit project is het analyseren van de huidige biodiversiteit in de parken van 'National Parks Service'.\n",
    "\n",
    "In dit project zullen de volgende zaken aan bod komen: De onderzoeksvragen, data analyse, conclusie met mogelijke verklaring van bevindingen en de evaluatie van het project met voorstellen voor vervolgonderzoek.\n"
   ]
  },
  {
   "cell_type": "markdown",
   "metadata": {},
   "source": [
    "# Onderzoeksvragen\n",
    "\n",
    "'National Parks Service' zou graag een antwoord hebben op de volgende onderzoeksvragen:\n",
    "- Is er een verschil in biodiversiteit tussen de parken en is dit verschil significant?\n",
    "- Wat is de status van de verschillende bedreigde soorten?\n",
    "- Worden sommige soorten eerder met uitsterven bedreigd dan andere en is dit verschil significant?\n",
    "- Welke soorten komen het vaaks voor in de parken ?\n"
   ]
  },
  {
   "cell_type": "markdown",
   "metadata": {},
   "source": [
    "# Data analyse\n",
    "\n",
    "In deze sectie zullen de benodigde Python libraries en de aangeleverde data worden ingeladen. De data zal worden bekeken en indien nodig worden opgeschoont. Verder zal er algemene statistiek op de data worden uitgevoerd."
   ]
  },
  {
   "cell_type": "markdown",
   "metadata": {},
   "source": [
    "### Importeren Python Modules\n",
    "\n",
    "Allereerst worden de, voor dit project, benodigde Python libraries geimporteerd."
   ]
  },
  {
   "cell_type": "code",
   "execution_count": 2,
   "metadata": {},
   "outputs": [],
   "source": [
    "import pandas as pd\n",
    "import numpy as np\n",
    "\n",
    "from matplotlib import pyplot as plt\n",
    "import seaborn as sns\n",
    "\n",
    "from scipy.stats import chi2_contingency"
   ]
  },
  {
   "cell_type": "markdown",
   "metadata": {},
   "source": [
    "### Inladen van de Data\n",
    "\n",
    "Voor dit project zijn twee bestanden aangeleverd: 'species_info.csv' en 'observations.csv'.\n",
    "Deze bestanden zullen ingeladen als 'DataFrames' met de namen 'species' en 'observations'. Om een globale indruk van de data te krijgen zullen, van elke 'DataFrame', de eerste rijen worden getoond.\n",
    "\n",
    "**Databron:** De data is aangeleverd door 'Codecademy' (https://www.codecademy.com)."
   ]
  },
  {
   "cell_type": "markdown",
   "metadata": {},
   "source": [
    "#### Species Dataframe\n",
    "\n",
    "Het `species_info.csv` bestand bevat informatie over de dieren in de verschillende nationale parken. De tabel bevat vier kolommen met de volgende informatie:\n",
    "- **category** - De klasse van de betreffende soort\n",
    "- **scientific_name** - De wetenschappelijke naam van de soort\n",
    "- **common_names** - De naam van de soort in de volksmond\n",
    "- **conservation_status** - De status van bedreiging van de soort"
   ]
  },
  {
   "cell_type": "code",
   "execution_count": 3,
   "metadata": {},
   "outputs": [
    {
     "data": {
      "text/html": [
       "<div>\n",
       "<style scoped>\n",
       "    .dataframe tbody tr th:only-of-type {\n",
       "        vertical-align: middle;\n",
       "    }\n",
       "\n",
       "    .dataframe tbody tr th {\n",
       "        vertical-align: top;\n",
       "    }\n",
       "\n",
       "    .dataframe thead th {\n",
       "        text-align: right;\n",
       "    }\n",
       "</style>\n",
       "<table border=\"1\" class=\"dataframe\">\n",
       "  <thead>\n",
       "    <tr style=\"text-align: right;\">\n",
       "      <th></th>\n",
       "      <th>category</th>\n",
       "      <th>scientific_name</th>\n",
       "      <th>common_names</th>\n",
       "      <th>conservation_status</th>\n",
       "    </tr>\n",
       "  </thead>\n",
       "  <tbody>\n",
       "    <tr>\n",
       "      <th>0</th>\n",
       "      <td>Mammal</td>\n",
       "      <td>Clethrionomys gapperi gapperi</td>\n",
       "      <td>Gapper's Red-Backed Vole</td>\n",
       "      <td>NaN</td>\n",
       "    </tr>\n",
       "    <tr>\n",
       "      <th>1</th>\n",
       "      <td>Mammal</td>\n",
       "      <td>Bos bison</td>\n",
       "      <td>American Bison, Bison</td>\n",
       "      <td>NaN</td>\n",
       "    </tr>\n",
       "    <tr>\n",
       "      <th>2</th>\n",
       "      <td>Mammal</td>\n",
       "      <td>Bos taurus</td>\n",
       "      <td>Aurochs, Aurochs, Domestic Cattle (Feral), Dom...</td>\n",
       "      <td>NaN</td>\n",
       "    </tr>\n",
       "    <tr>\n",
       "      <th>3</th>\n",
       "      <td>Mammal</td>\n",
       "      <td>Ovis aries</td>\n",
       "      <td>Domestic Sheep, Mouflon, Red Sheep, Sheep (Feral)</td>\n",
       "      <td>NaN</td>\n",
       "    </tr>\n",
       "    <tr>\n",
       "      <th>4</th>\n",
       "      <td>Mammal</td>\n",
       "      <td>Cervus elaphus</td>\n",
       "      <td>Wapiti Or Elk</td>\n",
       "      <td>NaN</td>\n",
       "    </tr>\n",
       "  </tbody>\n",
       "</table>\n",
       "</div>"
      ],
      "text/plain": [
       "  category                scientific_name  \\\n",
       "0   Mammal  Clethrionomys gapperi gapperi   \n",
       "1   Mammal                      Bos bison   \n",
       "2   Mammal                     Bos taurus   \n",
       "3   Mammal                     Ovis aries   \n",
       "4   Mammal                 Cervus elaphus   \n",
       "\n",
       "                                        common_names conservation_status  \n",
       "0                           Gapper's Red-Backed Vole                 NaN  \n",
       "1                              American Bison, Bison                 NaN  \n",
       "2  Aurochs, Aurochs, Domestic Cattle (Feral), Dom...                 NaN  \n",
       "3  Domestic Sheep, Mouflon, Red Sheep, Sheep (Feral)                 NaN  \n",
       "4                                      Wapiti Or Elk                 NaN  "
      ]
     },
     "execution_count": 3,
     "metadata": {},
     "output_type": "execute_result"
    }
   ],
   "source": [
    "# Inladen van de 'species' data\n",
    "species = pd.read_csv('species_info.csv')\n",
    "\n",
    "# Tonen van de eerste vijf rijen van de species dataframe\n",
    "species.head()"
   ]
  },
  {
   "cell_type": "markdown",
   "metadata": {},
   "source": [
    "#### Observations Dataframe\n",
    "\n",
    "Het `Observations.csv` bestand bevat informatie over de observatie van de dieren in de verschillende nationale parken. De tabel bevat drie kolommen met de volgende informatie:\n",
    "\n",
    "- **scientific_name** - De wetenschappelijke naam van de soort\n",
    "- **park_name** - De naam van het nationale park\n",
    "- **observations** - Het aantal observaties in de afgelopen 7 dagen\n"
   ]
  },
  {
   "cell_type": "code",
   "execution_count": 4,
   "metadata": {},
   "outputs": [
    {
     "data": {
      "text/html": [
       "<div>\n",
       "<style scoped>\n",
       "    .dataframe tbody tr th:only-of-type {\n",
       "        vertical-align: middle;\n",
       "    }\n",
       "\n",
       "    .dataframe tbody tr th {\n",
       "        vertical-align: top;\n",
       "    }\n",
       "\n",
       "    .dataframe thead th {\n",
       "        text-align: right;\n",
       "    }\n",
       "</style>\n",
       "<table border=\"1\" class=\"dataframe\">\n",
       "  <thead>\n",
       "    <tr style=\"text-align: right;\">\n",
       "      <th></th>\n",
       "      <th>scientific_name</th>\n",
       "      <th>park_name</th>\n",
       "      <th>observations</th>\n",
       "    </tr>\n",
       "  </thead>\n",
       "  <tbody>\n",
       "    <tr>\n",
       "      <th>0</th>\n",
       "      <td>Vicia benghalensis</td>\n",
       "      <td>Great Smoky Mountains National Park</td>\n",
       "      <td>68</td>\n",
       "    </tr>\n",
       "    <tr>\n",
       "      <th>1</th>\n",
       "      <td>Neovison vison</td>\n",
       "      <td>Great Smoky Mountains National Park</td>\n",
       "      <td>77</td>\n",
       "    </tr>\n",
       "    <tr>\n",
       "      <th>2</th>\n",
       "      <td>Prunus subcordata</td>\n",
       "      <td>Yosemite National Park</td>\n",
       "      <td>138</td>\n",
       "    </tr>\n",
       "    <tr>\n",
       "      <th>3</th>\n",
       "      <td>Abutilon theophrasti</td>\n",
       "      <td>Bryce National Park</td>\n",
       "      <td>84</td>\n",
       "    </tr>\n",
       "    <tr>\n",
       "      <th>4</th>\n",
       "      <td>Githopsis specularioides</td>\n",
       "      <td>Great Smoky Mountains National Park</td>\n",
       "      <td>85</td>\n",
       "    </tr>\n",
       "  </tbody>\n",
       "</table>\n",
       "</div>"
      ],
      "text/plain": [
       "            scientific_name                            park_name  observations\n",
       "0        Vicia benghalensis  Great Smoky Mountains National Park            68\n",
       "1            Neovison vison  Great Smoky Mountains National Park            77\n",
       "2         Prunus subcordata               Yosemite National Park           138\n",
       "3      Abutilon theophrasti                  Bryce National Park            84\n",
       "4  Githopsis specularioides  Great Smoky Mountains National Park            85"
      ]
     },
     "execution_count": 4,
     "metadata": {},
     "output_type": "execute_result"
    }
   ],
   "source": [
    "# Inladen van de 'observations' data\n",
    "observations = pd.read_csv('observations.csv')\n",
    "\n",
    "# Tonen van de eerste vijf rijen van de observations dataframe\n",
    "observations.head()"
   ]
  },
  {
   "cell_type": "markdown",
   "metadata": {},
   "source": [
    "### Algemeen data onderzoek\n",
    "\n",
    "Er zullen wat algemene functies op de data worden toegepast om een betere indruk van de data te krijgen. Er zal gezocht worden naar informatie over het aantal en welke klasses, parken en status van bedreiging. En over bijvoorbeeld het aantal soorten."
   ]
  },
  {
   "cell_type": "markdown",
   "metadata": {},
   "source": [
    "#### Species Dataframe"
   ]
  },
  {
   "cell_type": "code",
   "execution_count": 5,
   "metadata": {},
   "outputs": [
    {
     "data": {
      "text/html": [
       "<div>\n",
       "<style scoped>\n",
       "    .dataframe tbody tr th:only-of-type {\n",
       "        vertical-align: middle;\n",
       "    }\n",
       "\n",
       "    .dataframe tbody tr th {\n",
       "        vertical-align: top;\n",
       "    }\n",
       "\n",
       "    .dataframe thead th {\n",
       "        text-align: right;\n",
       "    }\n",
       "</style>\n",
       "<table border=\"1\" class=\"dataframe\">\n",
       "  <thead>\n",
       "    <tr style=\"text-align: right;\">\n",
       "      <th></th>\n",
       "      <th>category</th>\n",
       "      <th>scientific_name</th>\n",
       "      <th>common_names</th>\n",
       "      <th>conservation_status</th>\n",
       "    </tr>\n",
       "  </thead>\n",
       "  <tbody>\n",
       "    <tr>\n",
       "      <th>count</th>\n",
       "      <td>5824</td>\n",
       "      <td>5824</td>\n",
       "      <td>5824</td>\n",
       "      <td>191</td>\n",
       "    </tr>\n",
       "    <tr>\n",
       "      <th>unique</th>\n",
       "      <td>7</td>\n",
       "      <td>5541</td>\n",
       "      <td>5504</td>\n",
       "      <td>4</td>\n",
       "    </tr>\n",
       "    <tr>\n",
       "      <th>top</th>\n",
       "      <td>Vascular Plant</td>\n",
       "      <td>Castor canadensis</td>\n",
       "      <td>Brachythecium Moss</td>\n",
       "      <td>Species of Concern</td>\n",
       "    </tr>\n",
       "    <tr>\n",
       "      <th>freq</th>\n",
       "      <td>4470</td>\n",
       "      <td>3</td>\n",
       "      <td>7</td>\n",
       "      <td>161</td>\n",
       "    </tr>\n",
       "  </tbody>\n",
       "</table>\n",
       "</div>"
      ],
      "text/plain": [
       "              category    scientific_name        common_names  \\\n",
       "count             5824               5824                5824   \n",
       "unique               7               5541                5504   \n",
       "top     Vascular Plant  Castor canadensis  Brachythecium Moss   \n",
       "freq              4470                  3                   7   \n",
       "\n",
       "       conservation_status  \n",
       "count                  191  \n",
       "unique                   4  \n",
       "top     Species of Concern  \n",
       "freq                   161  "
      ]
     },
     "execution_count": 5,
     "metadata": {},
     "output_type": "execute_result"
    }
   ],
   "source": [
    "# Informatie betreffende de algehele 'species' DataFrame\n",
    "species.describe()"
   ]
  },
  {
   "cell_type": "code",
   "execution_count": 7,
   "metadata": {},
   "outputs": [
    {
     "name": "stdout",
     "output_type": "stream",
     "text": [
      "Er zijn 7 verschillende klasses: ['Mammal', 'Bird', 'Reptile', 'Amphibian', 'Fish', 'Vascular Plant', 'Nonvascular Plant'].\n",
      "Er zijn 5541 verschillende soorten in de vier parken.\n",
      "Er zijn 4 verschillende 'status van bedreiging': [nan, 'Species of Concern', 'Endangered', 'Threatened', 'In Recovery'].\n"
     ]
    }
   ],
   "source": [
    "# Informatie betreffende kolom 'category'\n",
    "category = list(species['category'].unique())\n",
    "category_n = species['category'].nunique()\n",
    "print('Er zijn ' + str(category_n) + ' verschillende klasses: ' + str(category) + '.')\n",
    "\n",
    "# Informatie betreffende kolom 'scientific_name'\n",
    "scientific_name_n = species['scientific_name'].nunique()\n",
    "print('Er zijn ' + str(scientific_name_n) + ' verschillende soorten in de vier parken.')\n",
    "\n",
    "# Informatie betreffende kolom 'conservation_status'\n",
    "conservation_status = list(species['conservation_status'].unique())\n",
    "conservation_status_n = species['conservation_status'].nunique()\n",
    "print('Er zijn ' + str(conservation_status_n) + ' verschillende \\'status van bedreiging\\': ' + str(conservation_status) + '.')"
   ]
  },
  {
   "cell_type": "markdown",
   "metadata": {},
   "source": [
    "De kolom 'conservation_status' bevat rijen zonder informatie (nan). In dit geval betekend de afwezigheid van informatie dat de betreffende soort geen bedreigde soort is. Niet bedreigd staat gelijk aan geen bedreigde status (nan). Omdat 'nan' in deze context niet correct is, zullen de 'nan' waardes worden vervangen door 'Least concern'."
   ]
  },
  {
   "cell_type": "code",
   "execution_count": 5,
   "metadata": {},
   "outputs": [
    {
     "name": "stdout",
     "output_type": "stream",
     "text": [
      "['Least concern', 'Species of Concern', 'Endangered', 'Threatened', 'In Recovery']\n"
     ]
    }
   ],
   "source": [
    "# Vervangen van 'Nan' waarden door de waarde 'Least concern'\n",
    "species['conservation_status'].fillna('Least concern', inplace=True)\n",
    "conservation_status = list(species['conservation_status'].unique())\n",
    "print(conservation_status)"
   ]
  },
  {
   "cell_type": "markdown",
   "metadata": {},
   "source": [
    "#### Observations Dataframe"
   ]
  },
  {
   "cell_type": "code",
   "execution_count": 8,
   "metadata": {},
   "outputs": [
    {
     "data": {
      "text/html": [
       "<div>\n",
       "<style scoped>\n",
       "    .dataframe tbody tr th:only-of-type {\n",
       "        vertical-align: middle;\n",
       "    }\n",
       "\n",
       "    .dataframe tbody tr th {\n",
       "        vertical-align: top;\n",
       "    }\n",
       "\n",
       "    .dataframe thead th {\n",
       "        text-align: right;\n",
       "    }\n",
       "</style>\n",
       "<table border=\"1\" class=\"dataframe\">\n",
       "  <thead>\n",
       "    <tr style=\"text-align: right;\">\n",
       "      <th></th>\n",
       "      <th>scientific_name</th>\n",
       "      <th>park_name</th>\n",
       "      <th>observations</th>\n",
       "    </tr>\n",
       "  </thead>\n",
       "  <tbody>\n",
       "    <tr>\n",
       "      <th>count</th>\n",
       "      <td>23296</td>\n",
       "      <td>23296</td>\n",
       "      <td>23296.000000</td>\n",
       "    </tr>\n",
       "    <tr>\n",
       "      <th>unique</th>\n",
       "      <td>5541</td>\n",
       "      <td>4</td>\n",
       "      <td>NaN</td>\n",
       "    </tr>\n",
       "    <tr>\n",
       "      <th>top</th>\n",
       "      <td>Myotis lucifugus</td>\n",
       "      <td>Great Smoky Mountains National Park</td>\n",
       "      <td>NaN</td>\n",
       "    </tr>\n",
       "    <tr>\n",
       "      <th>freq</th>\n",
       "      <td>12</td>\n",
       "      <td>5824</td>\n",
       "      <td>NaN</td>\n",
       "    </tr>\n",
       "    <tr>\n",
       "      <th>mean</th>\n",
       "      <td>NaN</td>\n",
       "      <td>NaN</td>\n",
       "      <td>142.287904</td>\n",
       "    </tr>\n",
       "    <tr>\n",
       "      <th>std</th>\n",
       "      <td>NaN</td>\n",
       "      <td>NaN</td>\n",
       "      <td>69.890532</td>\n",
       "    </tr>\n",
       "    <tr>\n",
       "      <th>min</th>\n",
       "      <td>NaN</td>\n",
       "      <td>NaN</td>\n",
       "      <td>9.000000</td>\n",
       "    </tr>\n",
       "    <tr>\n",
       "      <th>25%</th>\n",
       "      <td>NaN</td>\n",
       "      <td>NaN</td>\n",
       "      <td>86.000000</td>\n",
       "    </tr>\n",
       "    <tr>\n",
       "      <th>50%</th>\n",
       "      <td>NaN</td>\n",
       "      <td>NaN</td>\n",
       "      <td>124.000000</td>\n",
       "    </tr>\n",
       "    <tr>\n",
       "      <th>75%</th>\n",
       "      <td>NaN</td>\n",
       "      <td>NaN</td>\n",
       "      <td>195.000000</td>\n",
       "    </tr>\n",
       "    <tr>\n",
       "      <th>max</th>\n",
       "      <td>NaN</td>\n",
       "      <td>NaN</td>\n",
       "      <td>321.000000</td>\n",
       "    </tr>\n",
       "  </tbody>\n",
       "</table>\n",
       "</div>"
      ],
      "text/plain": [
       "         scientific_name                            park_name  observations\n",
       "count              23296                                23296  23296.000000\n",
       "unique              5541                                    4           NaN\n",
       "top     Myotis lucifugus  Great Smoky Mountains National Park           NaN\n",
       "freq                  12                                 5824           NaN\n",
       "mean                 NaN                                  NaN    142.287904\n",
       "std                  NaN                                  NaN     69.890532\n",
       "min                  NaN                                  NaN      9.000000\n",
       "25%                  NaN                                  NaN     86.000000\n",
       "50%                  NaN                                  NaN    124.000000\n",
       "75%                  NaN                                  NaN    195.000000\n",
       "max                  NaN                                  NaN    321.000000"
      ]
     },
     "execution_count": 8,
     "metadata": {},
     "output_type": "execute_result"
    }
   ],
   "source": [
    "# Informatie betreffende de algehele 'observations' DataFrame\n",
    "observations.describe(include = 'all')"
   ]
  },
  {
   "cell_type": "code",
   "execution_count": 9,
   "metadata": {},
   "outputs": [
    {
     "name": "stdout",
     "output_type": "stream",
     "text": [
      "Er zijn 4 verschillende parken: ['Great Smoky Mountains National Park', 'Yosemite National Park', 'Bryce National Park', 'Yellowstone National Park'].\n"
     ]
    }
   ],
   "source": [
    "# Informatie betreffende kolom 'park_name'\n",
    "park_name = list(observations['park_name'].unique())\n",
    "park_name_n = observations['park_name'].nunique()\n",
    "print('Er zijn ' + str(park_name_n) + ' verschillende parken: ' + str(park_name) + '.')"
   ]
  },
  {
   "cell_type": "markdown",
   "metadata": {},
   "source": [
    "### Conclusie\n",
    "\n",
    "De tabellen bevatten informatie over vier verschillende parken. In de parken leven 5541 verschillende soorten, verdeeld over zeven klasses. De mate van bedreiging is ingedeeld in vijf stadia."
   ]
  },
  {
   "cell_type": "markdown",
   "metadata": {},
   "source": [
    "# Analyse onderzoeksvragen"
   ]
  },
  {
   "cell_type": "markdown",
   "metadata": {},
   "source": [
    "### Is er een verschil in biodiversiteit tussen de parken en is dit verschil significant?\n",
    "\n",
    "De biodiversiteit omvat alle soorten planten, dieren en micro-organismen. Onderzocht zal worden of er in de vier parken een verschil is in biodiversiteit. Wanneer dit inderdaad het geval is, zal onderzocht worden of dit verschil significant is.\n",
    "\n"
   ]
  },
  {
   "cell_type": "code",
   "execution_count": 7,
   "metadata": {},
   "outputs": [
    {
     "name": "stdout",
     "output_type": "stream",
     "text": [
      "In 'Great Smoky Mountains National Park' leven 5541 soorten.\n",
      "In 'Yosemite National Park' leven 5541 soorten.\n",
      "In 'Bryce National Park' leven 5541 soorten.\n",
      "In 'Yellowstone National Park' leven 5541 soorten.\n"
     ]
    }
   ],
   "source": [
    "\"\"\"\n",
    "Per park wordt een tabel gemaakt. De 'observations' tabel wordt verdeeld over de volgende 4 tabellen:\n",
    "GSM = 'Great Smoky Mountains National Park'\n",
    "YM = 'Yosemite National Park'\n",
    "B = 'Bryce National Park'\n",
    "YS = 'Yellowstone National Park'\n",
    "\"\"\"\n",
    "\n",
    "GSM = observations[(observations['park_name'] == 'Great Smoky Mountains National Park') & \n",
    "                   (observations['observations'] >= 1)]\n",
    "YM = observations[(observations['park_name'] == 'Yosemite National Park') & \n",
    "                   (observations['observations'] >= 1)]\n",
    "B = observations[(observations['park_name'] == 'Bryce National Park') & \n",
    "                   (observations['observations'] >= 1)]\n",
    "YS = observations[(observations['park_name'] == 'Yellowstone National Park') & \n",
    "                   (observations['observations'] >= 1)]\n",
    "\n",
    "# De lengte van elke tabel wordt uitgeprint. De lengte van de tabel is een maat voor het aantal diersoorten in de tabel.\n",
    "print('In \\'Great Smoky Mountains National Park\\' leven ' + str(len(GSM.drop_duplicates(subset=['scientific_name']))) + ' soorten.')\n",
    "print('In \\'Yosemite National Park\\' leven ' + str(len(YM.drop_duplicates(subset=['scientific_name']))) + ' soorten.')\n",
    "print('In \\'Bryce National Park\\' leven ' + str(len(B.drop_duplicates(subset=['scientific_name']))) + ' soorten.')\n",
    "print('In \\'Yellowstone National Park\\' leven ' + str(len(YS.drop_duplicates(subset=['scientific_name']))) + ' soorten.')"
   ]
  },
  {
   "cell_type": "code",
   "execution_count": 8,
   "metadata": {
    "scrolled": true
   },
   "outputs": [
    {
     "data": {
      "text/html": [
       "<div>\n",
       "<style scoped>\n",
       "    .dataframe tbody tr th:only-of-type {\n",
       "        vertical-align: middle;\n",
       "    }\n",
       "\n",
       "    .dataframe tbody tr th {\n",
       "        vertical-align: top;\n",
       "    }\n",
       "\n",
       "    .dataframe thead th {\n",
       "        text-align: right;\n",
       "    }\n",
       "</style>\n",
       "<table border=\"1\" class=\"dataframe\">\n",
       "  <thead>\n",
       "    <tr style=\"text-align: right;\">\n",
       "      <th></th>\n",
       "      <th>park_name</th>\n",
       "      <th>observations</th>\n",
       "    </tr>\n",
       "  </thead>\n",
       "  <tbody>\n",
       "    <tr>\n",
       "      <th>0</th>\n",
       "      <td>Bryce National Park</td>\n",
       "      <td>576025</td>\n",
       "    </tr>\n",
       "    <tr>\n",
       "      <th>1</th>\n",
       "      <td>Great Smoky Mountains National Park</td>\n",
       "      <td>431820</td>\n",
       "    </tr>\n",
       "    <tr>\n",
       "      <th>2</th>\n",
       "      <td>Yellowstone National Park</td>\n",
       "      <td>1443562</td>\n",
       "    </tr>\n",
       "    <tr>\n",
       "      <th>3</th>\n",
       "      <td>Yosemite National Park</td>\n",
       "      <td>863332</td>\n",
       "    </tr>\n",
       "  </tbody>\n",
       "</table>\n",
       "</div>"
      ],
      "text/plain": [
       "                             park_name  observations\n",
       "0                  Bryce National Park        576025\n",
       "1  Great Smoky Mountains National Park        431820\n",
       "2            Yellowstone National Park       1443562\n",
       "3               Yosemite National Park        863332"
      ]
     },
     "execution_count": 8,
     "metadata": {},
     "output_type": "execute_result"
    }
   ],
   "source": [
    "# Tabel met het aantal observaties per park\n",
    "observations.groupby('park_name').observations.sum().reset_index()"
   ]
  },
  {
   "cell_type": "code",
   "execution_count": 9,
   "metadata": {},
   "outputs": [
    {
     "data": {
      "image/png": "[encoded data removed]",
      "text/plain": [
       "<Figure size 640x480 with 1 Axes>"
      ]
     },
     "metadata": {},
     "output_type": "display_data"
    }
   ],
   "source": [
    "# Pie plot met het aantal observaties per park\n",
    "observations = [576025, 431820, 1443562, 863332]\n",
    "labels = ['Bryce National Park', 'Great Smoky Mountains National Park', 'Yellowstone National Park', 'Yosemite National Park']\n",
    "plt.pie(observations, labels = labels, autopct = '%1.0f%%')\n",
    "plt.title('Het aantal observaties per park')\n",
    "plt.show()"
   ]
  },
  {
   "cell_type": "markdown",
   "metadata": {},
   "source": [
    "#### Conclusie\n",
    "Verrassend genoeg is er geen verschil in biodiversiteit tussen de parken. Alle soorten komen in elk van de vier parken voor.\n",
    "\n",
    "In het Yellowstone National Park worden de meeste observaties gedaan. Onduidelijk is of dit informatief is. Er is geen informatie over de grootte van de parken en over het aantal observatiepunten."
   ]
  },
  {
   "cell_type": "markdown",
   "metadata": {},
   "source": [
    "### Wat is de status van de verschillende bedreigde soorten?\n",
    "\n",
    "Gaat het met elke klasse even goed, of bevatten sommige klasse relatief meer soorten met een bedreigde status."
   ]
  },
  {
   "cell_type": "code",
   "execution_count": 10,
   "metadata": {},
   "outputs": [
    {
     "data": {
      "text/html": [
       "<div>\n",
       "<style scoped>\n",
       "    .dataframe tbody tr th:only-of-type {\n",
       "        vertical-align: middle;\n",
       "    }\n",
       "\n",
       "    .dataframe tbody tr th {\n",
       "        vertical-align: top;\n",
       "    }\n",
       "\n",
       "    .dataframe thead th {\n",
       "        text-align: right;\n",
       "    }\n",
       "</style>\n",
       "<table border=\"1\" class=\"dataframe\">\n",
       "  <thead>\n",
       "    <tr style=\"text-align: right;\">\n",
       "      <th>category</th>\n",
       "      <th>Amphibian</th>\n",
       "      <th>Bird</th>\n",
       "      <th>Fish</th>\n",
       "      <th>Mammal</th>\n",
       "      <th>Nonvascular Plant</th>\n",
       "      <th>Reptile</th>\n",
       "      <th>Vascular Plant</th>\n",
       "    </tr>\n",
       "    <tr>\n",
       "      <th>conservation_status</th>\n",
       "      <th></th>\n",
       "      <th></th>\n",
       "      <th></th>\n",
       "      <th></th>\n",
       "      <th></th>\n",
       "      <th></th>\n",
       "      <th></th>\n",
       "    </tr>\n",
       "  </thead>\n",
       "  <tbody>\n",
       "    <tr>\n",
       "      <th>Endangered</th>\n",
       "      <td>1.0</td>\n",
       "      <td>4.0</td>\n",
       "      <td>3.0</td>\n",
       "      <td>7.0</td>\n",
       "      <td>0.0</td>\n",
       "      <td>0.0</td>\n",
       "      <td>1.0</td>\n",
       "    </tr>\n",
       "    <tr>\n",
       "      <th>Species of Concern</th>\n",
       "      <td>4.0</td>\n",
       "      <td>72.0</td>\n",
       "      <td>4.0</td>\n",
       "      <td>28.0</td>\n",
       "      <td>5.0</td>\n",
       "      <td>5.0</td>\n",
       "      <td>43.0</td>\n",
       "    </tr>\n",
       "    <tr>\n",
       "      <th>Threatened</th>\n",
       "      <td>2.0</td>\n",
       "      <td>0.0</td>\n",
       "      <td>4.0</td>\n",
       "      <td>2.0</td>\n",
       "      <td>0.0</td>\n",
       "      <td>0.0</td>\n",
       "      <td>2.0</td>\n",
       "    </tr>\n",
       "    <tr>\n",
       "      <th>In Recovery</th>\n",
       "      <td>0.0</td>\n",
       "      <td>3.0</td>\n",
       "      <td>0.0</td>\n",
       "      <td>1.0</td>\n",
       "      <td>0.0</td>\n",
       "      <td>0.0</td>\n",
       "      <td>0.0</td>\n",
       "    </tr>\n",
       "    <tr>\n",
       "      <th>Least concern</th>\n",
       "      <td>73.0</td>\n",
       "      <td>442.0</td>\n",
       "      <td>116.0</td>\n",
       "      <td>176.0</td>\n",
       "      <td>328.0</td>\n",
       "      <td>74.0</td>\n",
       "      <td>4424.0</td>\n",
       "    </tr>\n",
       "  </tbody>\n",
       "</table>\n",
       "</div>"
      ],
      "text/plain": [
       "category            Amphibian   Bird   Fish  Mammal  Nonvascular Plant  \\\n",
       "conservation_status                                                      \n",
       "Endangered                1.0    4.0    3.0     7.0                0.0   \n",
       "Species of Concern        4.0   72.0    4.0    28.0                5.0   \n",
       "Threatened                2.0    0.0    4.0     2.0                0.0   \n",
       "In Recovery               0.0    3.0    0.0     1.0                0.0   \n",
       "Least concern            73.0  442.0  116.0   176.0              328.0   \n",
       "\n",
       "category             Reptile  Vascular Plant  \n",
       "conservation_status                           \n",
       "Endangered               0.0             1.0  \n",
       "Species of Concern       5.0            43.0  \n",
       "Threatened               0.0             2.0  \n",
       "In Recovery              0.0             0.0  \n",
       "Least concern           74.0          4424.0  "
      ]
     },
     "execution_count": 10,
     "metadata": {},
     "output_type": "execute_result"
    }
   ],
   "source": [
    "# Dataframe maken met per klasse, het aantal soorten per status van bedreiging\n",
    "conservation_category = species.groupby([\"conservation_status\", \"category\"])\\\n",
    "    ['scientific_name'].count().unstack()\n",
    "\n",
    "# De 'conservation_status' sorteren van meest bedreigd (bovenaan) naar minst bedreigd (onderaan)\n",
    "conservation_category_ordered = conservation_category.reindex(['Endangered','Species of Concern','Threatened','In Recovery','Least concern'])\n",
    "\n",
    "# Nan values vervangen door 0.0\n",
    "conservation_category_ordered.fillna({'Amphibian':'0.0', 'Bird':'0.0', 'Fish': 0.0, 'Mammal': 0.0, 'Nonvascular Plant': 0.0, 'Reptile': 0.0, 'Vascular Plant': 0.0}, inplace=True)\n",
    "\n",
    "# Dataframe tonen\n",
    "conservation_category_ordered"
   ]
  },
  {
   "cell_type": "code",
   "execution_count": 11,
   "metadata": {},
   "outputs": [
    {
     "data": {
      "text/plain": [
       "category\n",
       "Amphibian             object\n",
       "Bird                  object\n",
       "Fish                 float64\n",
       "Mammal               float64\n",
       "Nonvascular Plant    float64\n",
       "Reptile              float64\n",
       "Vascular Plant       float64\n",
       "dtype: object"
      ]
     },
     "execution_count": 11,
     "metadata": {},
     "output_type": "execute_result"
    }
   ],
   "source": [
    "# Controleren of alle waarden van het type 'float' zijn\n",
    "conservation_category_ordered.dtypes"
   ]
  },
  {
   "cell_type": "code",
   "execution_count": 12,
   "metadata": {},
   "outputs": [
    {
     "data": {
      "text/plain": [
       "category\n",
       "Amphibian            float64\n",
       "Bird                 float64\n",
       "Fish                 float64\n",
       "Mammal               float64\n",
       "Nonvascular Plant    float64\n",
       "Reptile              float64\n",
       "Vascular Plant       float64\n",
       "dtype: object"
      ]
     },
     "execution_count": 12,
     "metadata": {},
     "output_type": "execute_result"
    }
   ],
   "source": [
    "# Het type 'object' van de 'Amphibian' en de 'Bird' kolom, omzetten naar het type 'float'\n",
    "conservation_category_ordered['Amphibian'] = conservation_category_ordered['Amphibian'].astype(float)\n",
    "conservation_category_ordered['Bird'] = conservation_category_ordered['Bird'].astype(float)\n",
    "\n",
    "# Controle of het omzetten is gelukt\n",
    "conservation_category_ordered.dtypes"
   ]
  },
  {
   "cell_type": "code",
   "execution_count": 13,
   "metadata": {
    "scrolled": true
   },
   "outputs": [
    {
     "data": {
      "text/html": [
       "<div>\n",
       "<style scoped>\n",
       "    .dataframe tbody tr th:only-of-type {\n",
       "        vertical-align: middle;\n",
       "    }\n",
       "\n",
       "    .dataframe tbody tr th {\n",
       "        vertical-align: top;\n",
       "    }\n",
       "\n",
       "    .dataframe thead th {\n",
       "        text-align: right;\n",
       "    }\n",
       "</style>\n",
       "<table border=\"1\" class=\"dataframe\">\n",
       "  <thead>\n",
       "    <tr style=\"text-align: right;\">\n",
       "      <th>category</th>\n",
       "      <th>Amphibian</th>\n",
       "      <th>Bird</th>\n",
       "      <th>Fish</th>\n",
       "      <th>Mammal</th>\n",
       "      <th>Nonvascular Plant</th>\n",
       "      <th>Reptile</th>\n",
       "      <th>Vascular Plant</th>\n",
       "    </tr>\n",
       "    <tr>\n",
       "      <th>conservation_status</th>\n",
       "      <th></th>\n",
       "      <th></th>\n",
       "      <th></th>\n",
       "      <th></th>\n",
       "      <th></th>\n",
       "      <th></th>\n",
       "      <th></th>\n",
       "    </tr>\n",
       "  </thead>\n",
       "  <tbody>\n",
       "    <tr>\n",
       "      <th>Endangered</th>\n",
       "      <td>0.0125</td>\n",
       "      <td>0.007678</td>\n",
       "      <td>0.023622</td>\n",
       "      <td>0.032710</td>\n",
       "      <td>0.000000</td>\n",
       "      <td>0.000000</td>\n",
       "      <td>0.000224</td>\n",
       "    </tr>\n",
       "    <tr>\n",
       "      <th>Species of Concern</th>\n",
       "      <td>0.0500</td>\n",
       "      <td>0.138196</td>\n",
       "      <td>0.031496</td>\n",
       "      <td>0.130841</td>\n",
       "      <td>0.015015</td>\n",
       "      <td>0.063291</td>\n",
       "      <td>0.009620</td>\n",
       "    </tr>\n",
       "    <tr>\n",
       "      <th>Threatened</th>\n",
       "      <td>0.0250</td>\n",
       "      <td>0.000000</td>\n",
       "      <td>0.031496</td>\n",
       "      <td>0.009346</td>\n",
       "      <td>0.000000</td>\n",
       "      <td>0.000000</td>\n",
       "      <td>0.000447</td>\n",
       "    </tr>\n",
       "    <tr>\n",
       "      <th>In Recovery</th>\n",
       "      <td>0.0000</td>\n",
       "      <td>0.005758</td>\n",
       "      <td>0.000000</td>\n",
       "      <td>0.004673</td>\n",
       "      <td>0.000000</td>\n",
       "      <td>0.000000</td>\n",
       "      <td>0.000000</td>\n",
       "    </tr>\n",
       "    <tr>\n",
       "      <th>Least concern</th>\n",
       "      <td>0.9125</td>\n",
       "      <td>0.848369</td>\n",
       "      <td>0.913386</td>\n",
       "      <td>0.822430</td>\n",
       "      <td>0.984985</td>\n",
       "      <td>0.936709</td>\n",
       "      <td>0.989709</td>\n",
       "    </tr>\n",
       "  </tbody>\n",
       "</table>\n",
       "</div>"
      ],
      "text/plain": [
       "category             Amphibian      Bird      Fish    Mammal  \\\n",
       "conservation_status                                            \n",
       "Endangered              0.0125  0.007678  0.023622  0.032710   \n",
       "Species of Concern      0.0500  0.138196  0.031496  0.130841   \n",
       "Threatened              0.0250  0.000000  0.031496  0.009346   \n",
       "In Recovery             0.0000  0.005758  0.000000  0.004673   \n",
       "Least concern           0.9125  0.848369  0.913386  0.822430   \n",
       "\n",
       "category             Nonvascular Plant   Reptile  Vascular Plant  \n",
       "conservation_status                                               \n",
       "Endangered                    0.000000  0.000000        0.000224  \n",
       "Species of Concern            0.015015  0.063291        0.009620  \n",
       "Threatened                    0.000000  0.000000        0.000447  \n",
       "In Recovery                   0.000000  0.000000        0.000000  \n",
       "Least concern                 0.984985  0.936709        0.989709  "
      ]
     },
     "execution_count": 13,
     "metadata": {},
     "output_type": "execute_result"
    }
   ],
   "source": [
    "# In de Dataframe conservation_category_ordered staan absolute waarden, \n",
    "# Om deze waarden makkelijker met elkaar te vergelijken zullen deze waarden worden opgezet naar proporties\n",
    "for klasse in list(conservation_category_ordered.columns.values):\n",
    "    conservation_category_ordered[klasse] = conservation_category_ordered[klasse]\\\n",
    ".apply(lambda x: x / len(species[species[\"category\"] == klasse]))\n",
    "\n",
    "# Dataframe tonen\n",
    "conservation_category_ordered"
   ]
  },
  {
   "cell_type": "code",
   "execution_count": 12,
   "metadata": {},
   "outputs": [
    {
     "data": {
      "image/png": "[encoded data removed]",
      "text/plain": [
       "<Figure size 640x480 with 1 Axes>"
      ]
     },
     "metadata": {},
     "output_type": "display_data"
    }
   ],
   "source": [
    "# Ter visualisatie worden de getallen van de conservation_category_ordered Dataframe verwerkt in een gestapelde staafdiagram\n",
    "\n",
    "# Aanmaken x en y data\n",
    "x = ['Amphibian', 'Bird', 'Fish', 'Mammal', 'Nonvascular Plant', 'Reptile', 'Vascular Plant']\n",
    "y1 = np.array([0.9125, 0.848369, 0.913386, 0.822430, 0.984985, 0.936709, 0.989709])\n",
    "y2 = np.array([0.0000, 0.005758, 0.000000, 0.004673, 0.000000, 0.000000, 0.000000])\n",
    "y3 = np.array([0.0250, 0.000000, 0.031496, 0.009346, 0.000000, 0.000000, 0.000447])\n",
    "y4 = np.array([0.0500, 0.138196, 0.031496, 0.130841, 0.015015, 0.063291, 0.009620])\n",
    "y5 = np.array([0.0125, 0.007678, 0.023622, 0.032710, 0.000000, 0.000000, 0.000224])\n",
    "\n",
    "# Maken van een gestapelde staafdiagram\n",
    "plt.bar(x, y1)\n",
    "plt.bar(x, y2, bottom=y1)\n",
    "plt.bar(x, y3, bottom=y1+y2)\n",
    "plt.bar(x, y4, bottom=y1+y2+y3)\n",
    "plt.bar(x, y5, bottom=y1+y2+y3+y4)\n",
    "\n",
    "plt.xlabel('Klasse')\n",
    "plt.xticks(rotation=45)\n",
    "plt.ylabel('Status')\n",
    "plt.ylim(0.7, 1.0)\n",
    "plt.legend([\"Least concern\", \"In Recovery\", \"Threatened\", \"Species of Concern\", \"Endangered\"])\n",
    "plt.title(\"Bedreigings-status van de verschillende klasses\")\n",
    "plt.show()"
   ]
  },
  {
   "cell_type": "markdown",
   "metadata": {},
   "source": [
    "NB. Het grootste deel van de soorten word niet bedreigd. Om de verschillende status van bedreiging van de klasses beter zichtbaar te maken is er ingezoomed op de Y-as."
   ]
  },
  {
   "cell_type": "code",
   "execution_count": 18,
   "metadata": {},
   "outputs": [
    {
     "name": "stdout",
     "output_type": "stream",
     "text": [
      "Het percentage bedreigde vogelsoorten is 15.2%\n",
      "Het percentage bedreigde zoogdiersoorten is 17.8%\n"
     ]
    }
   ],
   "source": [
    "# Vogels en zoogdieren hebben relatief meer soorten met een bedreigde status.\n",
    "\n",
    "# Berekening percentages\n",
    "percentage_endangered_birds = round((1-0.848369)*100, 1)\n",
    "percentage_endangered_mammels = round((1-0.822430)*100, 1)\n",
    "print('Het percentage bedreigde vogelsoorten is ' + str(percentage_endangered_birds) + '%')\n",
    "print('Het percentage bedreigde zoogdiersoorten is ' + str(percentage_endangered_mammels) + '%')"
   ]
  },
  {
   "cell_type": "markdown",
   "metadata": {},
   "source": [
    "#### Conclusie\n",
    "Vogels en zoogdieren hebben relatief meer soorten met een bedreigde status t.o.v. amfibieen, vissen, reptilen en planten.\n",
    "De twee klasse van planten (nonvascular en vascular) bevatten relatief de minste soorten met een bedreigde status."
   ]
  },
  {
   "cell_type": "markdown",
   "metadata": {},
   "source": [
    "### Worden sommige soorten eerder met uitsterven bedreigd dan andere en is dit verschil significant?\n",
    "\n",
    "In de klasses vogel en zoogdier komen de meeste bedreigde soorten voor. Het aantal bedreigde vogelsoorten lijkt relatief groter. \n",
    "\n",
    "Onderzocht wordt of dit verschil in het aantal bedreigde soorten tussen vogels en zoogdieren significant is. Dit wordt onderzocht door de p-waarde uit te rekenen, waarbij een grenswaarde van 0.05 wordt aangehouden. Voor het berekenen van de p-waarde zijn de absolute aantallen (niet) bedreide soorten nodig. Deze zijn in het voorgaande hoofdstuk berekend:\n",
    "\n",
    "||Bedreigd|Niet bedreigd|\n",
    "|-|-|-|\n",
    "|Vogels|79|442|\n",
    "|Zoogdieren|38|176|\n",
    "\n",
    "Indien het verschil significant is dan zal voor de zoogdierklasse worden onderzocht welk geslacht dan de meeste bedreigde diersoorten bevat. Indien het verschil niet significant is, dan zal voor beide klasse worden onderzocht welk geslacht dan de meeste bedreigde diersoorten bevat."
   ]
  },
  {
   "cell_type": "code",
   "execution_count": 43,
   "metadata": {},
   "outputs": [
    {
     "data": {
      "text/plain": [
       "Chi2ContingencyResult(statistic=0.5810483277947567, pvalue=0.445901703047197, dof=1, expected_freq=array([[ 82.93469388, 438.06530612],\n",
       "       [ 34.06530612, 179.93469388]]))"
      ]
     },
     "execution_count": 43,
     "metadata": {},
     "output_type": "execute_result"
    }
   ],
   "source": [
    "# De p-waarde wordt berekend met de absolute aantallen bedreigde en niet bedreigde soorten. \n",
    "# Deze getallen staan in een frequentietabel (contingency table)\n",
    "contingency_table = [[79, 442],\n",
    "              [38, 176]]\n",
    "chi2_contingency(contingency_table)"
   ]
  },
  {
   "cell_type": "markdown",
   "metadata": {},
   "source": [
    "De p-waarde is 0.45, dit is hoger dan 0.05. Het verschil in het aantal bedreide diersoorten tussen de vogel en de zoogdier klasse is daarmee niet significant. De klasse vogels en zoogdieren bevatten beide de meeste bedreigde diersoorten. \n",
    "Voor de beide klasses worden onderzocht welk geslacht dan de meeste bedreigde diersoorten bevat."
   ]
  },
  {
   "cell_type": "markdown",
   "metadata": {},
   "source": [
    "#### Vogels"
   ]
  },
  {
   "cell_type": "code",
   "execution_count": 71,
   "metadata": {},
   "outputs": [
    {
     "name": "stderr",
     "output_type": "stream",
     "text": [
      "C:\\Users\\Muit001J\\AppData\\Local\\Temp\\ipykernel_14100\\1296012687.py:5: SettingWithCopyWarning: \n",
      "A value is trying to be set on a copy of a slice from a DataFrame.\n",
      "Try using .loc[row_indexer,col_indexer] = value instead\n",
      "\n",
      "See the caveats in the documentation: https://pandas.pydata.org/pandas-docs/stable/user_guide/indexing.html#returning-a-view-versus-a-copy\n",
      "  bedreigde_vogels['genus'] = bedreigde_vogels['scientific_name'].str.split(' ').str[0]\n"
     ]
    },
    {
     "data": {
      "text/html": [
       "<div>\n",
       "<style scoped>\n",
       "    .dataframe tbody tr th:only-of-type {\n",
       "        vertical-align: middle;\n",
       "    }\n",
       "\n",
       "    .dataframe tbody tr th {\n",
       "        vertical-align: top;\n",
       "    }\n",
       "\n",
       "    .dataframe thead th {\n",
       "        text-align: right;\n",
       "    }\n",
       "</style>\n",
       "<table border=\"1\" class=\"dataframe\">\n",
       "  <thead>\n",
       "    <tr style=\"text-align: right;\">\n",
       "      <th></th>\n",
       "      <th>category</th>\n",
       "      <th>scientific_name</th>\n",
       "      <th>common_names</th>\n",
       "      <th>conservation_status</th>\n",
       "      <th>genus</th>\n",
       "    </tr>\n",
       "  </thead>\n",
       "  <tbody>\n",
       "    <tr>\n",
       "      <th>91</th>\n",
       "      <td>Bird</td>\n",
       "      <td>Accipiter cooperii</td>\n",
       "      <td>Cooper's Hawk</td>\n",
       "      <td>Species of Concern</td>\n",
       "      <td>Accipiter</td>\n",
       "    </tr>\n",
       "    <tr>\n",
       "      <th>93</th>\n",
       "      <td>Bird</td>\n",
       "      <td>Accipiter striatus</td>\n",
       "      <td>Sharp-Shinned Hawk</td>\n",
       "      <td>Species of Concern</td>\n",
       "      <td>Accipiter</td>\n",
       "    </tr>\n",
       "    <tr>\n",
       "      <th>94</th>\n",
       "      <td>Bird</td>\n",
       "      <td>Aquila chrysaetos</td>\n",
       "      <td>Golden Eagle</td>\n",
       "      <td>Species of Concern</td>\n",
       "      <td>Aquila</td>\n",
       "    </tr>\n",
       "    <tr>\n",
       "      <th>96</th>\n",
       "      <td>Bird</td>\n",
       "      <td>Buteo lineatus</td>\n",
       "      <td>Red-Shouldered Hawk</td>\n",
       "      <td>Species of Concern</td>\n",
       "      <td>Buteo</td>\n",
       "    </tr>\n",
       "    <tr>\n",
       "      <th>98</th>\n",
       "      <td>Bird</td>\n",
       "      <td>Circus cyaneus</td>\n",
       "      <td>Northern Harrier</td>\n",
       "      <td>Species of Concern</td>\n",
       "      <td>Circus</td>\n",
       "    </tr>\n",
       "  </tbody>\n",
       "</table>\n",
       "</div>"
      ],
      "text/plain": [
       "   category     scientific_name         common_names conservation_status  \\\n",
       "91     Bird  Accipiter cooperii        Cooper's Hawk  Species of Concern   \n",
       "93     Bird  Accipiter striatus   Sharp-Shinned Hawk  Species of Concern   \n",
       "94     Bird   Aquila chrysaetos         Golden Eagle  Species of Concern   \n",
       "96     Bird      Buteo lineatus  Red-Shouldered Hawk  Species of Concern   \n",
       "98     Bird      Circus cyaneus     Northern Harrier  Species of Concern   \n",
       "\n",
       "        genus  \n",
       "91  Accipiter  \n",
       "93  Accipiter  \n",
       "94     Aquila  \n",
       "96      Buteo  \n",
       "98     Circus  "
      ]
     },
     "execution_count": 71,
     "metadata": {},
     "output_type": "execute_result"
    }
   ],
   "source": [
    "# Er wordt een Dataframe gemaakt met alleen vogels met een bedreide status.\n",
    "bedreigde_vogels = species[(species['category'] == 'Bird') & (species['conservation_status'] != 'Least concern')]\n",
    "\n",
    "# Aan de Dataframe wordt een losse kolom toegevoegd met alleen het eerste deel van de wetenschappelijke naam (vogels van hetzelde geslacht)\n",
    "bedreigde_vogels['genus'] = bedreigde_vogels['scientific_name'].str.split(' ').str[0]\n",
    "\n",
    "# Dataframe tonen\n",
    "bedreigde_vogels.head()"
   ]
  },
  {
   "cell_type": "code",
   "execution_count": 70,
   "metadata": {},
   "outputs": [
    {
     "data": {
      "text/plain": [
       "Oreoscoptes    1\n",
       "Plegadis       1\n",
       "Calcarius      1\n",
       "Empidonax      1\n",
       "Botaurus       1\n",
       "              ..\n",
       "Gavia          2\n",
       "Buteo          2\n",
       "Pandion        2\n",
       "Riparia        2\n",
       "Falco          4\n",
       "Name: genus, Length: 65, dtype: int64"
      ]
     },
     "execution_count": 70,
     "metadata": {},
     "output_type": "execute_result"
    }
   ],
   "source": [
    "# Er wordt geteld hoe vaak het eerste deel van de wetenschappelijke naam (dieren van hetzelde geslacht) voorkomt.\n",
    "bedreigde_vogels.genus.value_counts().sort_values()"
   ]
  },
  {
   "cell_type": "markdown",
   "metadata": {},
   "source": [
    "#### Zoogdieren"
   ]
  },
  {
   "cell_type": "code",
   "execution_count": 72,
   "metadata": {},
   "outputs": [
    {
     "name": "stderr",
     "output_type": "stream",
     "text": [
      "C:\\Users\\Muit001J\\AppData\\Local\\Temp\\ipykernel_14100\\2144416911.py:5: SettingWithCopyWarning: \n",
      "A value is trying to be set on a copy of a slice from a DataFrame.\n",
      "Try using .loc[row_indexer,col_indexer] = value instead\n",
      "\n",
      "See the caveats in the documentation: https://pandas.pydata.org/pandas-docs/stable/user_guide/indexing.html#returning-a-view-versus-a-copy\n",
      "  bedreigde_zoogdieren['genus'] = bedreigde_zoogdieren['scientific_name'].str.split(' ').str[0]\n"
     ]
    },
    {
     "data": {
      "text/html": [
       "<div>\n",
       "<style scoped>\n",
       "    .dataframe tbody tr th:only-of-type {\n",
       "        vertical-align: middle;\n",
       "    }\n",
       "\n",
       "    .dataframe tbody tr th {\n",
       "        vertical-align: top;\n",
       "    }\n",
       "\n",
       "    .dataframe thead th {\n",
       "        text-align: right;\n",
       "    }\n",
       "</style>\n",
       "<table border=\"1\" class=\"dataframe\">\n",
       "  <thead>\n",
       "    <tr style=\"text-align: right;\">\n",
       "      <th></th>\n",
       "      <th>category</th>\n",
       "      <th>scientific_name</th>\n",
       "      <th>common_names</th>\n",
       "      <th>conservation_status</th>\n",
       "      <th>genus</th>\n",
       "    </tr>\n",
       "  </thead>\n",
       "  <tbody>\n",
       "    <tr>\n",
       "      <th>7</th>\n",
       "      <td>Mammal</td>\n",
       "      <td>Canis latrans</td>\n",
       "      <td>Coyote</td>\n",
       "      <td>Species of Concern</td>\n",
       "      <td>Canis</td>\n",
       "    </tr>\n",
       "    <tr>\n",
       "      <th>8</th>\n",
       "      <td>Mammal</td>\n",
       "      <td>Canis lupus</td>\n",
       "      <td>Gray Wolf</td>\n",
       "      <td>Endangered</td>\n",
       "      <td>Canis</td>\n",
       "    </tr>\n",
       "    <tr>\n",
       "      <th>9</th>\n",
       "      <td>Mammal</td>\n",
       "      <td>Canis rufus</td>\n",
       "      <td>Red Wolf</td>\n",
       "      <td>Endangered</td>\n",
       "      <td>Canis</td>\n",
       "    </tr>\n",
       "    <tr>\n",
       "      <th>29</th>\n",
       "      <td>Mammal</td>\n",
       "      <td>Eptesicus fuscus</td>\n",
       "      <td>Big Brown Bat</td>\n",
       "      <td>Species of Concern</td>\n",
       "      <td>Eptesicus</td>\n",
       "    </tr>\n",
       "    <tr>\n",
       "      <th>30</th>\n",
       "      <td>Mammal</td>\n",
       "      <td>Lasionycteris noctivagans</td>\n",
       "      <td>Silver-Haired Bat</td>\n",
       "      <td>Species of Concern</td>\n",
       "      <td>Lasionycteris</td>\n",
       "    </tr>\n",
       "  </tbody>\n",
       "</table>\n",
       "</div>"
      ],
      "text/plain": [
       "   category            scientific_name       common_names conservation_status  \\\n",
       "7    Mammal              Canis latrans             Coyote  Species of Concern   \n",
       "8    Mammal                Canis lupus          Gray Wolf          Endangered   \n",
       "9    Mammal                Canis rufus           Red Wolf          Endangered   \n",
       "29   Mammal           Eptesicus fuscus      Big Brown Bat  Species of Concern   \n",
       "30   Mammal  Lasionycteris noctivagans  Silver-Haired Bat  Species of Concern   \n",
       "\n",
       "            genus  \n",
       "7           Canis  \n",
       "8           Canis  \n",
       "9           Canis  \n",
       "29      Eptesicus  \n",
       "30  Lasionycteris  "
      ]
     },
     "execution_count": 72,
     "metadata": {},
     "output_type": "execute_result"
    }
   ],
   "source": [
    "# Er wordt een Dataframe gemaakt met alleen zoogdieren met een bedreide status.\n",
    "bedreigde_zoogdieren = species[(species['category'] == 'Mammal') & (species['conservation_status'] != 'Least concern')]\n",
    "\n",
    "# Aan de Dataframe wordt een losse kolom toegevoegd met alleen het eerste deel van de wetenschappelijke naam (dieren van hetzelde geslacht)\n",
    "bedreigde_zoogdieren['genus'] = bedreigde_zoogdieren['scientific_name'].str.split(' ').str[0]\n",
    "\n",
    "# Dataframe tonen\n",
    "bedreigde_zoogdieren.head()"
   ]
  },
  {
   "cell_type": "code",
   "execution_count": 74,
   "metadata": {},
   "outputs": [
    {
     "data": {
      "text/plain": [
       "Glaucomys         1\n",
       "Ursus             1\n",
       "Antrozous         1\n",
       "Euderma           1\n",
       "Sorex             1\n",
       "Bassariscus       1\n",
       "Lasiurus          1\n",
       "Lepus             1\n",
       "Sylvilagus        1\n",
       "Aplodontia        1\n",
       "Eptesicus         2\n",
       "Lasionycteris     2\n",
       "Ovis              2\n",
       "Taxidea           2\n",
       "Canis             5\n",
       "Myotis           15\n",
       "Name: genus, dtype: int64"
      ]
     },
     "execution_count": 74,
     "metadata": {},
     "output_type": "execute_result"
    }
   ],
   "source": [
    "# Er wordt geteld hoe vaak het eerste deel van de wetenschappelijke naam (dieren van hetzelde geslacht) voorkomt.\n",
    "bedreigde_zoogdieren.genus.value_counts().sort_values()"
   ]
  },
  {
   "cell_type": "markdown",
   "metadata": {},
   "source": [
    "#### Conclusie\n",
    "\n",
    "Er is geen significant verschil gevonden tussen het aantal bedreigde diersoorten van de vogel- en de zoogdierklasse.\n",
    "\n",
    "In de vogelklasse komen de diersoorten met de geslachtsnaam 'Falco' het vaakst voor in de tabel met bedreigde vogels. Het geslacht Falco bevat alle valkachtigen.\n",
    "\n",
    "In de zoogdierklasse komen de diersoorten met de geslachtsnaam 'Myotis' het vaakst voor in de tabel met bedreigde zoogdieren. Myotis is een geslacht van gladneusvleermuizen."
   ]
  },
  {
   "cell_type": "markdown",
   "metadata": {},
   "source": [
    "### Welke soorten komen het vaaks voor in de parken ?"
   ]
  },
  {
   "cell_type": "markdown",
   "metadata": {},
   "source": [
    "Eerst zal worden onderzocht van welk geslacht de meeste soorten voorkomen in de parken. <br>\n",
    "Vervolgens zal worden onderzocht welke soorten het meest worden geobserveert.\n"
   ]
  },
  {
   "cell_type": "code",
   "execution_count": 76,
   "metadata": {},
   "outputs": [
    {
     "data": {
      "text/plain": [
       "Tribulus        1\n",
       "Caltha          1\n",
       "Ictinia         1\n",
       "Xema            1\n",
       "Cathartes       1\n",
       "             ... \n",
       "Ranunculus     43\n",
       "Salix          46\n",
       "Viola          54\n",
       "Juncus         60\n",
       "Carex         217\n",
       "Name: genus, Length: 1595, dtype: int64"
      ]
     },
     "execution_count": 76,
     "metadata": {},
     "output_type": "execute_result"
    }
   ],
   "source": [
    "# Aan de species Dataframe wordt een losse kolom toegevoegd,\n",
    "# met alleen het eerste deel van de wetenschappelijke naam (soorten van hetzelde geslacht)\n",
    "species['genus'] = species['scientific_name'].str.split(' ').str[0]\n",
    "\n",
    "# Er wordt geteld hoe vaak het eerste deel van de wetenschappelijke naam (soorten van hetzelde geslacht) voorkomt.\n",
    "species.genus.value_counts().sort_values()"
   ]
  },
  {
   "cell_type": "code",
   "execution_count": 77,
   "metadata": {},
   "outputs": [
    {
     "name": "stderr",
     "output_type": "stream",
     "text": [
      "C:\\Users\\Muit001J\\AppData\\Local\\Temp\\ipykernel_14100\\9972485.py:5: SettingWithCopyWarning: \n",
      "A value is trying to be set on a copy of a slice from a DataFrame.\n",
      "Try using .loc[row_indexer,col_indexer] = value instead\n",
      "\n",
      "See the caveats in the documentation: https://pandas.pydata.org/pandas-docs/stable/user_guide/indexing.html#returning-a-view-versus-a-copy\n",
      "  dieren['genus'] = dieren['scientific_name'].str.split(' ').str[0]\n"
     ]
    },
    {
     "data": {
      "text/plain": [
       "Ptychocheilus     1\n",
       "Oreoscoptes       1\n",
       "Callipepla        1\n",
       "Hypsiglena        1\n",
       "Contia            1\n",
       "                 ..\n",
       "Etheostoma       15\n",
       "Dendroica        15\n",
       "Sorex            16\n",
       "Myotis           17\n",
       "Setophaga        20\n",
       "Name: genus, Length: 430, dtype: int64"
      ]
     },
     "execution_count": 77,
     "metadata": {},
     "output_type": "execute_result"
    }
   ],
   "source": [
    "# Er wordt een Dataframe gemaakt met alleen dieren.\n",
    "dieren = species[(species['category'] != 'Nonvascular Plant') & (species['category'] != 'Vascular Plant')]\n",
    "\n",
    "# Aan de Dataframe wordt een losse kolom toegevoegd met alleen het eerste deel van de wetenschappelijke naam (dieren van hetzelde geslacht)\n",
    "dieren['genus'] = dieren['scientific_name'].str.split(' ').str[0]\n",
    "\n",
    "# Er wordt geteld hoe vaak het eerste deel van de wetenschappelijke naam (dieren van hetzelde geslacht) voorkomt.\n",
    "dieren.genus.value_counts().sort_values()"
   ]
  },
  {
   "cell_type": "code",
   "execution_count": 78,
   "metadata": {},
   "outputs": [
    {
     "data": {
      "text/plain": [
       "9418       9\n",
       "15511     10\n",
       "16054     11\n",
       "18823     11\n",
       "20375     12\n",
       "        ... \n",
       "7112     314\n",
       "20734    316\n",
       "8749     316\n",
       "1168     317\n",
       "11281    321\n",
       "Name: observations, Length: 23296, dtype: int64"
      ]
     },
     "execution_count": 78,
     "metadata": {},
     "output_type": "execute_result"
    }
   ],
   "source": [
    "# De observations Dataframe wordt gesorteerd op het aantal observaties.\n",
    "observations.observations.sort_values()"
   ]
  },
  {
   "cell_type": "markdown",
   "metadata": {},
   "source": [
    "De soort met indexnummer 11281 wordt het meest geobserveerd."
   ]
  },
  {
   "cell_type": "code",
   "execution_count": 17,
   "metadata": {},
   "outputs": [
    {
     "name": "stdout",
     "output_type": "stream",
     "text": [
      "Indexnummer 11281 correspondeerd met de soort Lycopodium tristachyum\n"
     ]
    }
   ],
   "source": [
    "# De soort met indexnummer 11281 wordt opgeroepen\n",
    "print('Indexnummer 11281 correspondeerd met de soort ' + str(observations.iloc[11281][0]))"
   ]
  },
  {
   "cell_type": "markdown",
   "metadata": {},
   "source": [
    "#### Conclusie\n",
    "Van alle soorten (zowel plant als dier), komen de soorten met de geslachtsnaam 'Carex' het vaakst voor in de Nationale parken. Carex is een plant met een grasachtige groeivorm. \n",
    "\n",
    "Van alle diersoorten komen de soorten met de geslachtsnaam 'Setophaga' het vaakst voor. Setophaga is een geslacht van Amerikaanse zangvogels.\n",
    "\n",
    "Wanneer enkel wordt gekeken naar het absolute aantal observaties dan wordt de kleine wolfsklauw (Lycopodium tristachyum) het vaakst geobserveerd van alle soorten. Deze soort is in 7 dagen tijd 321 keer gezien in Yellowstone National Park."
   ]
  },
  {
   "cell_type": "markdown",
   "metadata": {},
   "source": [
    "# Eindconclusie\n",
    "\n",
    "In de parken van 'National Parks Service' leven 5541 verschillende soorten, waarvan 191 soorten een bedreigde status hebben. Om het behoud van deze bedreigde soorten te waarborgen zijn een aantal vragen gesteld m.b.t. de huidige staat van deze bedreigde status. Deze vragen hebben de volgende antwoorden opgeleverd:\n",
    "\n",
    "\n",
    "- Er geen verschil in biodiversiteit tussen de parken. Alle soorten komen in elk van de vier parken voor.\n",
    "\n",
    "- Vogels en zoogdieren hebben relatief de meeste soorten met een bedreigde status. De twee klasse van planten (nonvascular en vascular) bevatten relatief de minste soorten met een bedreigde status.\n",
    "\n",
    "- Er is geen significant verschil gevonden tussen het aantal bedreigde diersoorten van de vogel- en de zoogdierklasse. In de vogelklasse worden diersoorten met de geslachtsnaam 'Falco' het meest bedreigd. In de zoogdierklasse worden de diersoorten met de geslachtsnaam 'Myotis' het meest bedreigd.*\n",
    "\n",
    "- Van alle plantensoorten komen de soorten met de geslachtsnaam 'Carex' het vaakst voor. Van alle diersoorten komen de soorten met de geslachtsnaam 'Setophaga' het vaakst voor.* De kleine wolfsklauw (Lycopodium tristachyum) wordt het vaakst geobserveerd van alle soorten. \n",
    "\n",
    "\n",
    "\n",
    "*NB. Deze conclusie is enkel gebasseerd op het aantal maal dat de geslachtsnaam voorkomt in de tabellen. Sommige geslachten hebben echter veel meer soorten dan andere geslachten en zullen om die reden een vertekend beeld kunnen geven van de werkelijkheid. Zie 'Evaluatie en vervolgonderzoek' voor aanbeveling vervolgonderzoek.\n"
   ]
  },
  {
   "cell_type": "markdown",
   "metadata": {},
   "source": [
    "# Evaluatie en vervolgonderzoek\n",
    "\n",
    "Voor diepgaand onderzoek is aanvullende informatie nodig. In het Yellowstone National Park worden bijvoorbeeld de meeste observaties gedaan. Onduidelijk is of dit informatief is. Er is geen informatie over de grootte van de vier parken en over het aantal observatiepunten.\n",
    "\n",
    "Ook is de wijze van observatie onduidelijk. Worden planten eenmaal geteld en kan hetzelfde dier bijvoorbeeld meerdere malen geteld worden op verschillende tijden of locaties. En wordt er bij het observeren rekening gehouden met de leefwijze van de dieren (schuw of niet, groot of klein territorium, dag- of nachtdier, etc.)\n",
    "\n",
    "\n",
    "In een vervolgonderzoek kan het informatief zijn om alle vragen per park te beantwoorden, om eventuele verschillen in de parken zichtbaar te maken. Bijvoorbeeld: 'Is het aantal bedreigde soorten in de vier verschillende parken gelijk, of hebben sommige parken minder bedreigde soorten?' Of, is het aantal bedreigde soorten gelijk, maar betreft het verschillende soorten?\n",
    "\n",
    "Verder dient het aanbeveling om geen onderzoek te doen naar groepen dieren (geslachten), maar het aantal observaties per diersoort te monitoren. Zo ontstaat er een duidelijk beeld hoe het gaat per indivuele diersoort.\n",
    "\n",
    "\n",
    "\n"
   ]
  },
  {
   "cell_type": "code",
   "execution_count": null,
   "metadata": {},
   "outputs": [],
   "source": []
  }
 ],
 "metadata": {
  "kernelspec": {
   "display_name": "Python 3 (ipykernel)",
   "language": "python",
   "name": "python3"
  },
  "language_info": {
   "codemirror_mode": {
    "name": "ipython",
    "version": 3
   },
   "file_extension": ".py",
   "mimetype": "text/x-python",
   "name": "python",
   "nbconvert_exporter": "python",
   "pygments_lexer": "ipython3",
   "version": "3.9.16"
  }
 },
 "nbformat": 4,
 "nbformat_minor": 4
}
